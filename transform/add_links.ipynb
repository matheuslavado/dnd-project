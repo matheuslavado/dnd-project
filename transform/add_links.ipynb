{
 "cells": [
  {
   "cell_type": "code",
   "execution_count": 1,
   "metadata": {
    "ExecuteTime": {
     "end_time": "2020-05-26T04:07:37.305071Z",
     "start_time": "2020-05-26T04:07:27.713516Z"
    }
   },
   "outputs": [],
   "source": [
    "import pandas as pd"
   ]
  },
  {
   "cell_type": "code",
   "execution_count": 3,
   "metadata": {
    "ExecuteTime": {
     "end_time": "2020-05-26T04:08:09.624709Z",
     "start_time": "2020-05-26T04:08:09.578436Z"
    }
   },
   "outputs": [
    {
     "data": {
      "text/html": [
       "<div>\n",
       "<style scoped>\n",
       "    .dataframe tbody tr th:only-of-type {\n",
       "        vertical-align: middle;\n",
       "    }\n",
       "\n",
       "    .dataframe tbody tr th {\n",
       "        vertical-align: top;\n",
       "    }\n",
       "\n",
       "    .dataframe thead th {\n",
       "        text-align: right;\n",
       "    }\n",
       "</style>\n",
       "<table border=\"1\" class=\"dataframe\">\n",
       "  <thead>\n",
       "    <tr style=\"text-align: right;\">\n",
       "      <th></th>\n",
       "      <th>Nome</th>\n",
       "      <th>Tipo</th>\n",
       "      <th>Tamanho</th>\n",
       "      <th>Tendência</th>\n",
       "      <th>PV_médio</th>\n",
       "      <th>PV_dados</th>\n",
       "      <th>CA</th>\n",
       "      <th>Deslocamento</th>\n",
       "      <th>Força</th>\n",
       "      <th>mod_força</th>\n",
       "      <th>...</th>\n",
       "      <th>mod_inteligência</th>\n",
       "      <th>Sabedoria</th>\n",
       "      <th>mod_sabedoria</th>\n",
       "      <th>Carisma</th>\n",
       "      <th>mod_carisma</th>\n",
       "      <th>Infos</th>\n",
       "      <th>Nível_desafio</th>\n",
       "      <th>XP</th>\n",
       "      <th>Ações</th>\n",
       "      <th>Dano_médio</th>\n",
       "    </tr>\n",
       "  </thead>\n",
       "  <tbody>\n",
       "    <tr>\n",
       "      <th>0</th>\n",
       "      <td>AARAKOCRA</td>\n",
       "      <td>Humanoide</td>\n",
       "      <td>Médio</td>\n",
       "      <td>neutro e bom</td>\n",
       "      <td>13</td>\n",
       "      <td>3d8</td>\n",
       "      <td>12</td>\n",
       "      <td>6.0</td>\n",
       "      <td>10.0</td>\n",
       "      <td>0.0</td>\n",
       "      <td>...</td>\n",
       "      <td>0.0</td>\n",
       "      <td>12.0</td>\n",
       "      <td>1.0</td>\n",
       "      <td>11.0</td>\n",
       "      <td>0.0</td>\n",
       "      <td>Perícias Percepção +5 Sentidos Percepção passi...</td>\n",
       "      <td>1/4</td>\n",
       "      <td>50.0</td>\n",
       "      <td>Garra. Ataque Corpo-a-Corpo com Arma: +4 para...</td>\n",
       "      <td>5.0</td>\n",
       "    </tr>\n",
       "  </tbody>\n",
       "</table>\n",
       "<p>1 rows × 25 columns</p>\n",
       "</div>"
      ],
      "text/plain": [
       "        Nome       Tipo Tamanho     Tendência  PV_médio PV_dados  CA  \\\n",
       "0  AARAKOCRA  Humanoide   Médio  neutro e bom        13      3d8  12   \n",
       "\n",
       "   Deslocamento  Força  mod_força  ...  mod_inteligência  Sabedoria  \\\n",
       "0           6.0   10.0        0.0  ...               0.0       12.0   \n",
       "\n",
       "   mod_sabedoria  Carisma  mod_carisma  \\\n",
       "0            1.0     11.0          0.0   \n",
       "\n",
       "                                               Infos  Nível_desafio    XP  \\\n",
       "0  Perícias Percepção +5 Sentidos Percepção passi...            1/4  50.0   \n",
       "\n",
       "                                               Ações  Dano_médio  \n",
       "0   Garra. Ataque Corpo-a-Corpo com Arma: +4 para...         5.0  \n",
       "\n",
       "[1 rows x 25 columns]"
      ]
     },
     "execution_count": 3,
     "metadata": {},
     "output_type": "execute_result"
    }
   ],
   "source": [
    "df = pd.read_csv('monster_lb.csv')\n",
    "df.head(1)"
   ]
  },
  {
   "cell_type": "code",
   "execution_count": 4,
   "metadata": {
    "ExecuteTime": {
     "end_time": "2020-05-26T04:08:40.973216Z",
     "start_time": "2020-05-26T04:08:40.958739Z"
    }
   },
   "outputs": [
    {
     "data": {
      "text/html": [
       "<div>\n",
       "<style scoped>\n",
       "    .dataframe tbody tr th:only-of-type {\n",
       "        vertical-align: middle;\n",
       "    }\n",
       "\n",
       "    .dataframe tbody tr th {\n",
       "        vertical-align: top;\n",
       "    }\n",
       "\n",
       "    .dataframe thead th {\n",
       "        text-align: right;\n",
       "    }\n",
       "</style>\n",
       "<table border=\"1\" class=\"dataframe\">\n",
       "  <thead>\n",
       "    <tr style=\"text-align: right;\">\n",
       "      <th></th>\n",
       "      <th>Nome</th>\n",
       "      <th>links</th>\n",
       "    </tr>\n",
       "  </thead>\n",
       "  <tbody>\n",
       "    <tr>\n",
       "      <th>0</th>\n",
       "      <td>AARAKOCRA</td>\n",
       "      <td>https://i.pinimg.com/originals/8c/7a/f0/8c7af0...</td>\n",
       "    </tr>\n",
       "  </tbody>\n",
       "</table>\n",
       "</div>"
      ],
      "text/plain": [
       "        Nome                                              links\n",
       "0  AARAKOCRA  https://i.pinimg.com/originals/8c/7a/f0/8c7af0..."
      ]
     },
     "execution_count": 4,
     "metadata": {},
     "output_type": "execute_result"
    }
   ],
   "source": [
    "links = pd.read_csv('../extraction/links2.csv')\n",
    "links.head(1)"
   ]
  },
  {
   "cell_type": "code",
   "execution_count": 6,
   "metadata": {
    "ExecuteTime": {
     "end_time": "2020-05-26T04:09:22.851629Z",
     "start_time": "2020-05-26T04:09:22.841935Z"
    }
   },
   "outputs": [],
   "source": [
    "df_final = df.merge(links, on = 'Nome')"
   ]
  },
  {
   "cell_type": "code",
   "execution_count": 7,
   "metadata": {
    "ExecuteTime": {
     "end_time": "2020-05-26T04:09:50.228299Z",
     "start_time": "2020-05-26T04:09:50.192320Z"
    }
   },
   "outputs": [],
   "source": [
    "df_final.to_csv('monster_lb_links.csv', index = False)"
   ]
  },
  {
   "cell_type": "code",
   "execution_count": null,
   "metadata": {},
   "outputs": [],
   "source": []
  }
 ],
 "metadata": {
  "kernelspec": {
   "display_name": "Python 3",
   "language": "python",
   "name": "python3"
  },
  "language_info": {
   "codemirror_mode": {
    "name": "ipython",
    "version": 3
   },
   "file_extension": ".py",
   "mimetype": "text/x-python",
   "name": "python",
   "nbconvert_exporter": "python",
   "pygments_lexer": "ipython3",
   "version": "3.7.4"
  },
  "toc": {
   "base_numbering": 1,
   "nav_menu": {},
   "number_sections": true,
   "sideBar": true,
   "skip_h1_title": false,
   "title_cell": "Table of Contents",
   "title_sidebar": "Contents",
   "toc_cell": false,
   "toc_position": {},
   "toc_section_display": true,
   "toc_window_display": false
  },
  "varInspector": {
   "cols": {
    "lenName": 16,
    "lenType": 16,
    "lenVar": 40
   },
   "kernels_config": {
    "python": {
     "delete_cmd_postfix": "",
     "delete_cmd_prefix": "del ",
     "library": "var_list.py",
     "varRefreshCmd": "print(var_dic_list())"
    },
    "r": {
     "delete_cmd_postfix": ") ",
     "delete_cmd_prefix": "rm(",
     "library": "var_list.r",
     "varRefreshCmd": "cat(var_dic_list()) "
    }
   },
   "types_to_exclude": [
    "module",
    "function",
    "builtin_function_or_method",
    "instance",
    "_Feature"
   ],
   "window_display": false
  }
 },
 "nbformat": 4,
 "nbformat_minor": 2
}
